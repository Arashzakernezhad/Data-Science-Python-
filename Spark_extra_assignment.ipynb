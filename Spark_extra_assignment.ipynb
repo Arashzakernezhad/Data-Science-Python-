{
  "nbformat": 4,
  "nbformat_minor": 0,
  "metadata": {
    "colab": {
      "provenance": []
    },
    "language_info": {
      "name": "python"
    },
    "kernelspec": {
      "name": "python3",
      "display_name": "Python 3"
    }
  },
  "cells": [
    {
      "metadata": {
        "id": "8U-O-ZCWcK4H"
      },
      "cell_type": "markdown",
      "source": [
        "# Spark\n",
        "Please upload provided files: sessions.json, camapigns.json, and orders.json"
      ]
    },
    {
      "metadata": {
        "id": "R3ICI6RbdO1v"
      },
      "cell_type": "markdown",
      "source": [
        "Initialize spark enviroment:"
      ]
    },
    {
      "metadata": {
        "id": "Btx-jiGcdPRf",
        "colab": {
          "base_uri": "https://localhost:8080/"
        },
        "outputId": "fbdab6ad-7dd7-4845-fb5e-88e6666a5dec"
      },
      "cell_type": "code",
      "source": [
        "!apt-get install openjdk-8-jdk-headless -qq > /dev/null\n",
        "!wget -q https://downloads.apache.org/spark/spark-3.4.2/spark-3.4.2-bin-hadoop3.tgz\n",
        "!tar xf spark-3.4.2-bin-hadoop3.tgz\n",
        "!pip install -q findspark\n",
        "\n",
        "import os\n",
        "os.environ[\"JAVA_HOME\"] = \"/usr/lib/jvm/java-8-openjdk-amd64\"\n",
        "os.environ[\"SPARK_HOME\"] = \"/content/spark-3.4.2-bin-hadoop3\"\n",
        "\n",
        "import findspark\n",
        "findspark.init()"
      ],
      "execution_count": 44,
      "outputs": [
        {
          "output_type": "stream",
          "name": "stdout",
          "text": [
            "^C\n"
          ]
        }
      ]
    },
    {
      "metadata": {
        "id": "mYKVVLHocg0i"
      },
      "cell_type": "markdown",
      "source": [
        "# Initialize data frames (1 point)\n",
        "\n",
        "Please start Spark session and load three datasets (and set aliases to sessions, orders, campaigns)."
      ]
    },
    {
      "metadata": {
        "id": "Og1nCcyGe3Vo"
      },
      "cell_type": "code",
      "source": [
        "from pyspark.sql import SparkSession\n",
        "spark = SparkSession.builder \\\n",
        ".master(\"local[*]\") \\\n",
        ".appName(\"App Name\") \\\n",
        ".getOrCreate()"
      ],
      "execution_count": 45,
      "outputs": []
    },
    {
      "cell_type": "code",
      "source": [
        "sessions_df = spark.read.json(\"sessions.json\")\n",
        "campaigns_df = spark.read.json(\"campaigns.json\")\n",
        "orders_df = spark.read.json(\"orders.json\")"
      ],
      "metadata": {
        "id": "XIsqov73CJAv"
      },
      "execution_count": 118,
      "outputs": []
    },
    {
      "cell_type": "code",
      "source": [
        "sessions_df.head()\n",
        "campaigns_df.head()\n",
        "orders_df.head()"
      ],
      "metadata": {
        "colab": {
          "base_uri": "https://localhost:8080/"
        },
        "id": "bbHnRiEmCd2L",
        "outputId": "b7e78fb3-7c8e-4eb6-c490-951a64b239d9"
      },
      "execution_count": 111,
      "outputs": [
        {
          "output_type": "execute_result",
          "data": {
            "text/plain": [
              "Row(number_of_items=4, session_id='7f93a680-0634-4e35-a3a7-08a29dcbe16c', transaction_value=99.28)"
            ]
          },
          "metadata": {},
          "execution_count": 111
        }
      ]
    },
    {
      "cell_type": "code",
      "source": [
        "sessions_df.alias('sessions')\n",
        "sessions_df.show(4)\n",
        "campaigns_df.show(4)\n",
        "orders_df.show(4)"
      ],
      "metadata": {
        "colab": {
          "base_uri": "https://localhost:8080/"
        },
        "id": "G5dRUA3FCz6T",
        "outputId": "b2319323-809f-4c11-945a-3d5451f728fb"
      },
      "execution_count": 112,
      "outputs": [
        {
          "output_type": "stream",
          "name": "stdout",
          "text": [
            "+-------+-------+--------------------+-------------------+\n",
            "|browser|     os|          session_id|      session_start|\n",
            "+-------+-------+--------------------+-------------------+\n",
            "|Firefox| Mac OS|99c24019-0d95-472...|2018-04-20 00:00:05|\n",
            "|Firefox| Mac OS|3155cff6-4b22-4eb...|2018-04-20 00:00:25|\n",
            "| Chrome|Windows|7f93a680-0634-4e3...|2018-04-20 00:00:27|\n",
            "|Firefox|Windows|fedaf382-25e3-4dc...|2018-04-20 00:00:29|\n",
            "+-------+-------+--------------------+-------------------+\n",
            "only showing top 4 rows\n",
            "\n",
            "+--------+--------------------+\n",
            "|campaign|          session_id|\n",
            "+--------+--------------------+\n",
            "|       B|99c24019-0d95-472...|\n",
            "|       C|3155cff6-4b22-4eb...|\n",
            "|       B|fedaf382-25e3-4dc...|\n",
            "|       B|5eeef4e0-fc6c-4ed...|\n",
            "+--------+--------------------+\n",
            "only showing top 4 rows\n",
            "\n",
            "+---------------+--------------------+-----------------+\n",
            "|number_of_items|          session_id|transaction_value|\n",
            "+---------------+--------------------+-----------------+\n",
            "|              4|7f93a680-0634-4e3...|            99.28|\n",
            "|              1|6100a44a-3d1f-4ca...|            20.82|\n",
            "|              2|6100a44a-3d1f-4ca...|            34.09|\n",
            "|              1|724a9dbb-8b55-43c...|            24.66|\n",
            "+---------------+--------------------+-----------------+\n",
            "only showing top 4 rows\n",
            "\n"
          ]
        }
      ]
    },
    {
      "cell_type": "code",
      "source": [
        "campaigns_df.where(campaigns_df.campaign == 'C').show()"
      ],
      "metadata": {
        "colab": {
          "base_uri": "https://localhost:8080/"
        },
        "id": "qPq8wZvLDd5Z",
        "outputId": "83abdf60-753e-4be4-fa58-7eeff7e8b5ba"
      },
      "execution_count": 113,
      "outputs": [
        {
          "output_type": "stream",
          "name": "stdout",
          "text": [
            "+--------+--------------------+\n",
            "|campaign|          session_id|\n",
            "+--------+--------------------+\n",
            "|       C|3155cff6-4b22-4eb...|\n",
            "|       C|d3d27684-b7af-4fd...|\n",
            "|       C|fcc5a689-8e78-484...|\n",
            "|       C|f0f79d22-f045-43d...|\n",
            "|       C|e3d7becb-b6cd-422...|\n",
            "|       C|724a9dbb-8b55-43c...|\n",
            "|       C|1077ec9e-99b1-481...|\n",
            "|       C|229eb9a0-ec6b-4e9...|\n",
            "|       C|35fd7bd2-e957-44d...|\n",
            "|       C|a2b1e8df-0aa9-478...|\n",
            "|       C|d8096738-13c7-490...|\n",
            "|       C|f793e88e-1c67-45e...|\n",
            "|       C|bd8e97d9-8767-4f0...|\n",
            "|       C|7ffad26d-1879-499...|\n",
            "|       C|07bc33c7-bd36-49a...|\n",
            "|       C|9cbd29da-3850-438...|\n",
            "|       C|9d35651a-b850-471...|\n",
            "|       C|60a44e5d-35ce-48a...|\n",
            "|       C|aa1014d2-37c0-4fc...|\n",
            "|       C|a6086c80-de13-418...|\n",
            "+--------+--------------------+\n",
            "only showing top 20 rows\n",
            "\n"
          ]
        }
      ]
    },
    {
      "metadata": {
        "id": "a3xzKfxw9FzA"
      },
      "cell_type": "markdown",
      "source": [
        "# Exploratory Analysis (4 points)\n",
        "\n",
        "Print schema for each dataframe (1 point)"
      ]
    },
    {
      "metadata": {
        "id": "Nahe7UJpwn2I",
        "colab": {
          "base_uri": "https://localhost:8080/"
        },
        "outputId": "3a886edd-a3c1-4c62-b1c9-a15f35bcec62"
      },
      "cell_type": "code",
      "source": [
        "sessions_df.printSchema()\n",
        "campaigns_df.printSchema()\n",
        "orders_df.printSchema()"
      ],
      "execution_count": 114,
      "outputs": [
        {
          "output_type": "stream",
          "name": "stdout",
          "text": [
            "root\n",
            " |-- browser: string (nullable = true)\n",
            " |-- os: string (nullable = true)\n",
            " |-- session_id: string (nullable = true)\n",
            " |-- session_start: string (nullable = true)\n",
            "\n",
            "root\n",
            " |-- campaign: string (nullable = true)\n",
            " |-- session_id: string (nullable = true)\n",
            "\n",
            "root\n",
            " |-- number_of_items: long (nullable = true)\n",
            " |-- session_id: string (nullable = true)\n",
            " |-- transaction_value: double (nullable = true)\n",
            "\n"
          ]
        }
      ]
    },
    {
      "metadata": {
        "id": "CtEGB2F5eTEX"
      },
      "cell_type": "markdown",
      "source": [
        "Show count of sessions by browser, by OS, and by both browser and OS (1 point)"
      ]
    },
    {
      "metadata": {
        "id": "Ew0HTRZjdQdz",
        "colab": {
          "base_uri": "https://localhost:8080/"
        },
        "outputId": "1ddc65e6-aa59-460e-a90b-d46839623f2c"
      },
      "cell_type": "code",
      "source": [
        "sessions_df.groupBy(['browser']).count().show()\n",
        "sessions_df.groupBy(['os']).count().show()\n",
        "sessions_df.groupBy(['browser','os']).count().show()"
      ],
      "execution_count": 115,
      "outputs": [
        {
          "output_type": "stream",
          "name": "stdout",
          "text": [
            "+-------+-----+\n",
            "|browser|count|\n",
            "+-------+-----+\n",
            "|Firefox| 6381|\n",
            "| Safari|  883|\n",
            "| Chrome| 9999|\n",
            "|   Edge| 2737|\n",
            "+-------+-----+\n",
            "\n",
            "+-------+-----+\n",
            "|     os|count|\n",
            "+-------+-----+\n",
            "| Mac OS| 5367|\n",
            "|Windows|14633|\n",
            "+-------+-----+\n",
            "\n",
            "+-------+-------+-----+\n",
            "|browser|     os|count|\n",
            "+-------+-------+-----+\n",
            "| Chrome| Mac OS| 2687|\n",
            "| Chrome|Windows| 7312|\n",
            "| Safari| Mac OS|  883|\n",
            "|Firefox| Mac OS| 1797|\n",
            "|Firefox|Windows| 4584|\n",
            "|   Edge|Windows| 2737|\n",
            "+-------+-------+-----+\n",
            "\n"
          ]
        }
      ]
    },
    {
      "metadata": {
        "id": "3lalXpqK9UJO"
      },
      "cell_type": "markdown",
      "source": [
        "Show count of sessions by day and hour of the day, e.g., 2018-04-20 00:00:05 should become 2018-04-20 00\n",
        "\n",
        "(hint create new column hour of the day based on session_start, ad this column to sessions dataframe as it will be needed later) (2 points)"
      ]
    },
    {
      "metadata": {
        "id": "svpx7zK99UVE",
        "colab": {
          "base_uri": "https://localhost:8080/"
        },
        "outputId": "b914b15f-8f7a-4403-a10a-75c4dd1cf5c1"
      },
      "cell_type": "code",
      "source": [
        "#Show count of sessions by day and hour of the day\n",
        "sessions_df.show()\n",
        "from pyspark.sql import functions as F\n",
        "sessions_df = sessions_df.withColumn(\"session_hour\", F.split(sessions_df[\"session_start\"], \":\", 0).getItem(0))\n",
        "\n",
        "sessions_df.groupBy(['session_hour']).count().show()"
      ],
      "execution_count": 120,
      "outputs": [
        {
          "output_type": "stream",
          "name": "stdout",
          "text": [
            "+-------+-------+--------------------+-------------------+-------------+\n",
            "|browser|     os|          session_id|      session_start| session_hour|\n",
            "+-------+-------+--------------------+-------------------+-------------+\n",
            "|Firefox| Mac OS|99c24019-0d95-472...|2018-04-20 00:00:05|2018-04-20 00|\n",
            "|Firefox| Mac OS|3155cff6-4b22-4eb...|2018-04-20 00:00:25|2018-04-20 00|\n",
            "| Chrome|Windows|7f93a680-0634-4e3...|2018-04-20 00:00:27|2018-04-20 00|\n",
            "|Firefox|Windows|fedaf382-25e3-4dc...|2018-04-20 00:00:29|2018-04-20 00|\n",
            "|Firefox|Windows|5eeef4e0-fc6c-4ed...|2018-04-20 00:00:49|2018-04-20 00|\n",
            "| Chrome|Windows|da4cdcd6-4393-4fe...|2018-04-20 00:00:50|2018-04-20 00|\n",
            "|Firefox|Windows|067cb75e-0051-4cb...|2018-04-20 00:01:11|2018-04-20 00|\n",
            "|Firefox|Windows|158d5493-34e9-441...|2018-04-20 00:01:13|2018-04-20 00|\n",
            "|Firefox| Mac OS|c025616a-f5d6-4a8...|2018-04-20 00:01:18|2018-04-20 00|\n",
            "| Chrome|Windows|f1dc344d-aacd-4c6...|2018-04-20 00:01:39|2018-04-20 00|\n",
            "|Firefox| Mac OS|63ef9d7e-1334-4cd...|2018-04-20 00:01:41|2018-04-20 00|\n",
            "|Firefox|Windows|969a8333-1cd9-449...|2018-04-20 00:01:42|2018-04-20 00|\n",
            "|Firefox|Windows|1a9ab477-5bbd-4d1...|2018-04-20 00:01:45|2018-04-20 00|\n",
            "| Chrome| Mac OS|85752fc9-7276-4ce...|2018-04-20 00:02:04|2018-04-20 00|\n",
            "| Chrome|Windows|ef284504-cc85-4e2...|2018-04-20 00:02:10|2018-04-20 00|\n",
            "|   Edge|Windows|2db3de50-7c3c-431...|2018-04-20 00:02:32|2018-04-20 00|\n",
            "| Chrome|Windows|f3e2e207-053f-4a5...|2018-04-20 00:02:43|2018-04-20 00|\n",
            "| Chrome|Windows|16b81dca-60e8-44b...|2018-04-20 00:02:57|2018-04-20 00|\n",
            "|   Edge|Windows|eed7b6eb-9fd3-417...|2018-04-20 00:03:14|2018-04-20 00|\n",
            "| Chrome|Windows|c828de15-3a31-496...|2018-04-20 00:03:22|2018-04-20 00|\n",
            "+-------+-------+--------------------+-------------------+-------------+\n",
            "only showing top 20 rows\n",
            "\n",
            "+-------------+-----+\n",
            "| session_hour|count|\n",
            "+-------------+-----+\n",
            "|2018-04-20 06|  759|\n",
            "|2018-04-20 21|  812|\n",
            "|2018-04-20 13|  801|\n",
            "|2018-04-20 09| 1650|\n",
            "|2018-04-20 19| 1167|\n",
            "|2018-04-20 11| 1066|\n",
            "|2018-04-20 03|  122|\n",
            "|2018-04-20 20|  932|\n",
            "|2018-04-20 05|  387|\n",
            "|2018-04-20 01|  234|\n",
            "|2018-04-20 15|  966|\n",
            "|2018-04-20 17| 1122|\n",
            "|2018-04-20 23|  458|\n",
            "|2018-04-20 00|  316|\n",
            "|2018-04-20 16| 1107|\n",
            "|2018-04-20 18| 1147|\n",
            "|2018-04-20 12|  852|\n",
            "|2018-04-20 08| 1600|\n",
            "|2018-04-20 07| 1291|\n",
            "|2018-04-20 22|  652|\n",
            "+-------------+-----+\n",
            "only showing top 20 rows\n",
            "\n"
          ]
        }
      ]
    },
    {
      "metadata": {
        "id": "7V_8-mB8s7Eu"
      },
      "cell_type": "markdown",
      "source": [
        "Show the same count as in previous step, but sorted by ascending hour_of_day, please show all 24 hours (1 point)"
      ]
    },
    {
      "metadata": {
        "id": "Nal2KlJjtrxj",
        "colab": {
          "base_uri": "https://localhost:8080/"
        },
        "outputId": "2bfdf75a-1728-472c-e451-47edab178ae3"
      },
      "cell_type": "code",
      "source": [
        "sessions_df.groupBy(['session_hour']).count().sort(\"session_hour\").show()"
      ],
      "execution_count": 121,
      "outputs": [
        {
          "output_type": "stream",
          "name": "stdout",
          "text": [
            "+-------------+-----+\n",
            "| session_hour|count|\n",
            "+-------------+-----+\n",
            "|2018-04-20 00|  316|\n",
            "|2018-04-20 01|  234|\n",
            "|2018-04-20 02|  142|\n",
            "|2018-04-20 03|  122|\n",
            "|2018-04-20 04|  163|\n",
            "|2018-04-20 05|  387|\n",
            "|2018-04-20 06|  759|\n",
            "|2018-04-20 07| 1291|\n",
            "|2018-04-20 08| 1600|\n",
            "|2018-04-20 09| 1650|\n",
            "|2018-04-20 10| 1373|\n",
            "|2018-04-20 11| 1066|\n",
            "|2018-04-20 12|  852|\n",
            "|2018-04-20 13|  801|\n",
            "|2018-04-20 14|  881|\n",
            "|2018-04-20 15|  966|\n",
            "|2018-04-20 16| 1107|\n",
            "|2018-04-20 17| 1122|\n",
            "|2018-04-20 18| 1147|\n",
            "|2018-04-20 19| 1167|\n",
            "+-------------+-----+\n",
            "only showing top 20 rows\n",
            "\n"
          ]
        }
      ]
    },
    {
      "metadata": {
        "id": "9kulRsFRqaZP"
      },
      "cell_type": "markdown",
      "source": [
        "# Preparing aggregated report (5 points)\n",
        "Join sessions with orders (creating new dataframe that will be used in later steps) and add is_transaction column (1 if transaction_value is present, 0 otherwise)\n",
        "\n",
        "To validate step display first 20 rows(2 points)"
      ]
    },
    {
      "metadata": {
        "id": "C-T2XWTRqbdZ",
        "colab": {
          "base_uri": "https://localhost:8080/"
        },
        "outputId": "54f38597-f8f7-40c0-e707-b97cb5f52428"
      },
      "cell_type": "code",
      "source": [
        "orders_df.show(4)\n",
        "sessions_df.show(4)\n",
        "sessions_df = sessions_df.withColumnRenamed(\"session_id\", \"sessions_session_id\")\n",
        "orders_sessions_df = orders_df.join(sessions_df,orders_df.session_id == sessions_df.sessions_session_id,\"inner\")\n",
        "orders_sessions_df = orders_sessions_df.drop('session_id')\n",
        "orders_sessions_df.show()"
      ],
      "execution_count": 161,
      "outputs": [
        {
          "output_type": "stream",
          "name": "stdout",
          "text": [
            "+---------------+--------------------+-----------------+\n",
            "|number_of_items|          session_id|transaction_value|\n",
            "+---------------+--------------------+-----------------+\n",
            "|              4|7f93a680-0634-4e3...|            99.28|\n",
            "|              1|6100a44a-3d1f-4ca...|            20.82|\n",
            "|              2|6100a44a-3d1f-4ca...|            34.09|\n",
            "|              1|724a9dbb-8b55-43c...|            24.66|\n",
            "+---------------+--------------------+-----------------+\n",
            "only showing top 4 rows\n",
            "\n",
            "+-------+-------+--------------------+-------------------+-------------+\n",
            "|browser|     os| sessions_session_id|      session_start| session_hour|\n",
            "+-------+-------+--------------------+-------------------+-------------+\n",
            "|Firefox| Mac OS|99c24019-0d95-472...|2018-04-20 00:00:05|2018-04-20 00|\n",
            "|Firefox| Mac OS|3155cff6-4b22-4eb...|2018-04-20 00:00:25|2018-04-20 00|\n",
            "| Chrome|Windows|7f93a680-0634-4e3...|2018-04-20 00:00:27|2018-04-20 00|\n",
            "|Firefox|Windows|fedaf382-25e3-4dc...|2018-04-20 00:00:29|2018-04-20 00|\n",
            "+-------+-------+--------------------+-------------------+-------------+\n",
            "only showing top 4 rows\n",
            "\n",
            "+---------------+-----------------+-------+-------+--------------------+-------------------+-------------+\n",
            "|number_of_items|transaction_value|browser|     os| sessions_session_id|      session_start| session_hour|\n",
            "+---------------+-----------------+-------+-------+--------------------+-------------------+-------------+\n",
            "|              4|            99.28| Chrome|Windows|7f93a680-0634-4e3...|2018-04-20 00:00:27|2018-04-20 00|\n",
            "|              1|            31.75| Chrome|Windows|c828de15-3a31-496...|2018-04-20 00:03:22|2018-04-20 00|\n",
            "|              2|            34.09| Chrome|Windows|6100a44a-3d1f-4ca...|2018-04-20 00:05:52|2018-04-20 00|\n",
            "|              1|            20.82| Chrome|Windows|6100a44a-3d1f-4ca...|2018-04-20 00:05:52|2018-04-20 00|\n",
            "|              1|            24.66|   Edge|Windows|724a9dbb-8b55-43c...|2018-04-20 00:07:32|2018-04-20 00|\n",
            "|              4|            121.6| Chrome|Windows|aa349bfa-86fe-46f...|2018-04-20 00:07:47|2018-04-20 00|\n",
            "|              1|            30.31| Chrome| Mac OS|ac9fbbc9-4ad7-42f...|2018-04-20 00:08:03|2018-04-20 00|\n",
            "|              3|            46.37| Chrome|Windows|63a8880c-ae7e-44c...|2018-04-20 00:09:15|2018-04-20 00|\n",
            "|              1|            18.95|Firefox|Windows|e216cbbf-3eab-439...|2018-04-20 00:09:58|2018-04-20 00|\n",
            "|              1|             29.9| Chrome| Mac OS|1093b972-cdfb-43e...|2018-04-20 00:10:16|2018-04-20 00|\n",
            "|              3|            73.92| Chrome| Mac OS|1093b972-cdfb-43e...|2018-04-20 00:10:16|2018-04-20 00|\n",
            "|              5|            133.8| Safari| Mac OS|562ff5ca-5878-446...|2018-04-20 00:12:30|2018-04-20 00|\n",
            "|              1|            21.16| Chrome|Windows|63abe772-348c-482...|2018-04-20 00:12:36|2018-04-20 00|\n",
            "|              5|           136.88| Chrome|Windows|63abe772-348c-482...|2018-04-20 00:12:36|2018-04-20 00|\n",
            "|              5|           106.69| Chrome|Windows|63abe772-348c-482...|2018-04-20 00:12:36|2018-04-20 00|\n",
            "|              3|             82.6| Chrome|Windows|07bc33c7-bd36-49a...|2018-04-20 00:13:30|2018-04-20 00|\n",
            "|              1|            20.76|Firefox|Windows|08b00f40-ff70-4c2...|2018-04-20 00:13:51|2018-04-20 00|\n",
            "|              5|            133.2|Firefox|Windows|08b00f40-ff70-4c2...|2018-04-20 00:13:51|2018-04-20 00|\n",
            "|              4|            71.09|Firefox|Windows|381f6529-26a1-431...|2018-04-20 00:15:29|2018-04-20 00|\n",
            "|              1|            32.99|Firefox|Windows|98041a23-79ca-468...|2018-04-20 00:15:35|2018-04-20 00|\n",
            "+---------------+-----------------+-------+-------+--------------------+-------------------+-------------+\n",
            "only showing top 20 rows\n",
            "\n"
          ]
        }
      ]
    },
    {
      "metadata": {
        "id": "9r3Esczrqatn"
      },
      "cell_type": "markdown",
      "source": [
        "Join the dataframe created in previous step with campaigns, and create a dataframe that will have count of sessions, total transaction value, total number of sold items, and number of transactions per each day and hour, campaign, browser, and os\n",
        "\n",
        "To validate step display first 20 rows(3 points)"
      ]
    },
    {
      "metadata": {
        "id": "evLW1moQ-S9t",
        "colab": {
          "base_uri": "https://localhost:8080/"
        },
        "outputId": "be0a72fc-e19c-4a7f-8170-dc75396b2779"
      },
      "cell_type": "code",
      "source": [
        "from pyspark.sql.functions import sum,avg,max,count\n",
        "\n",
        "#Joining the Campaign dataFrame to the previous dataFrame\n",
        "all_df = campaigns_df.join(\n",
        "    orders_sessions_df, campaigns_df.session_id == orders_sessions_df.sessions_session_id, \"inner\")\n",
        "all_df.show(5)\n",
        "\n",
        "#Grouping ['campaign', 'session_hour', 'browser', 'os'] and sum the value and count the sessions for each\n",
        "all_df.groupBy(\n",
        "    ['campaign', 'session_hour', 'browser', 'os']\n",
        "    ).agg(sum(\"transaction_value\").alias(\"sum_transaction_value\")\n",
        "    ,count(\"sessions_session_id\").alias(\"session_count\")\n",
        "    ).sort('session_hour', 'campaign'\n",
        "    ).show(10)"
      ],
      "execution_count": 203,
      "outputs": [
        {
          "output_type": "stream",
          "name": "stdout",
          "text": [
            "+--------+--------------------+---------------+-----------------+-------+-------+--------------------+-------------------+-------------+\n",
            "|campaign|          session_id|number_of_items|transaction_value|browser|     os| sessions_session_id|      session_start| session_hour|\n",
            "+--------+--------------------+---------------+-----------------+-------+-------+--------------------+-------------------+-------------+\n",
            "|       A|c828de15-3a31-496...|              1|            31.75| Chrome|Windows|c828de15-3a31-496...|2018-04-20 00:03:22|2018-04-20 00|\n",
            "|       A|c828de15-3a31-496...|              1|            31.75| Chrome|Windows|c828de15-3a31-496...|2018-04-20 00:03:22|2018-04-20 00|\n",
            "|       A|6100a44a-3d1f-4ca...|              2|            34.09| Chrome|Windows|6100a44a-3d1f-4ca...|2018-04-20 00:05:52|2018-04-20 00|\n",
            "|       A|6100a44a-3d1f-4ca...|              1|            20.82| Chrome|Windows|6100a44a-3d1f-4ca...|2018-04-20 00:05:52|2018-04-20 00|\n",
            "|       C|724a9dbb-8b55-43c...|              1|            24.66|   Edge|Windows|724a9dbb-8b55-43c...|2018-04-20 00:07:32|2018-04-20 00|\n",
            "+--------+--------------------+---------------+-----------------+-------+-------+--------------------+-------------------+-------------+\n",
            "only showing top 5 rows\n",
            "\n",
            "+--------+-------------+-------+-------+---------------------+-------------+\n",
            "|campaign| session_hour|browser|     os|sum_transaction_value|session_count|\n",
            "+--------+-------------+-------+-------+---------------------+-------------+\n",
            "|       A|2018-04-20 00| Chrome|Windows|               395.34|            7|\n",
            "|       A|2018-04-20 00|   Edge|Windows|                50.51|            1|\n",
            "|       A|2018-04-20 00|Firefox|Windows|                56.97|            2|\n",
            "|       A|2018-04-20 00| Chrome| Mac OS|                30.31|            1|\n",
            "|       B|2018-04-20 00|Firefox| Mac OS|   193.71999999999997|            2|\n",
            "|       B|2018-04-20 00| Safari| Mac OS|                133.8|            1|\n",
            "|       B|2018-04-20 00| Chrome|Windows|                46.37|            1|\n",
            "|       B|2018-04-20 00|Firefox|Windows|    787.0100000000001|           11|\n",
            "|       B|2018-04-20 00| Chrome| Mac OS|               263.46|            3|\n",
            "|       C|2018-04-20 00|Firefox| Mac OS|                76.41|            2|\n",
            "+--------+-------------+-------+-------+---------------------+-------------+\n",
            "only showing top 10 rows\n",
            "\n"
          ]
        }
      ]
    }
  ]
}